{
 "cells": [
  {
   "cell_type": "code",
   "execution_count": 2,
   "metadata": {},
   "outputs": [
    {
     "name": "stdout",
     "output_type": "stream",
     "text": [
      "Collecting polyglot\n",
      "\u001b[?25l  Downloading https://files.pythonhosted.org/packages/e7/98/e24e2489114c5112b083714277204d92d372f5bbe00d5507acf40370edb9/polyglot-16.7.4.tar.gz (126kB)\n",
      "\u001b[K    100% |████████████████████████████████| 133kB 48kB/s ta 0:00:01\n",
      "\u001b[?25hBuilding wheels for collected packages: polyglot\n",
      "  Building wheel for polyglot (setup.py) ... \u001b[?25ldone\n",
      "\u001b[?25h  Stored in directory: /Users/Suwani/Library/Caches/pip/wheels/5e/91/ef/f1369fdc1203b0a9347d4b24f149b83a305f39ab047986d9da\n",
      "Successfully built polyglot\n",
      "Installing collected packages: polyglot\n",
      "Successfully installed polyglot-16.7.4\n",
      "Note: you may need to restart the kernel to use updated packages.\n"
     ]
    }
   ],
   "source": [
    "pip install polyglot"
   ]
  },
  {
   "cell_type": "code",
   "execution_count": 4,
   "metadata": {},
   "outputs": [
    {
     "ename": "SyntaxError",
     "evalue": "invalid syntax (<ipython-input-4-ed202bcd9b1f>, line 1)",
     "output_type": "error",
     "traceback": [
      "\u001b[0;36m  File \u001b[0;32m\"<ipython-input-4-ed202bcd9b1f>\"\u001b[0;36m, line \u001b[0;32m1\u001b[0m\n\u001b[0;31m    sudo apt-get install build-essential\u001b[0m\n\u001b[0m           ^\u001b[0m\n\u001b[0;31mSyntaxError\u001b[0m\u001b[0;31m:\u001b[0m invalid syntax\n"
     ]
    }
   ],
   "source": [
    "sudo apt-get install build-essential"
   ]
  },
  {
   "cell_type": "code",
   "execution_count": 5,
   "metadata": {},
   "outputs": [
    {
     "name": "stdout",
     "output_type": "stream",
     "text": [
      "Collecting pyicu\n",
      "\u001b[?25l  Downloading https://files.pythonhosted.org/packages/95/0c/0fb09019efb65a29789ec5538f8e521b8f548da6935a3a474e19fbf2ea4d/PyICU-2.4.2.tar.gz (219kB)\n",
      "\u001b[K    100% |████████████████████████████████| 225kB 295kB/s ta 0:00:01\n",
      "\u001b[?25hBuilding wheels for collected packages: pyicu\n",
      "  Building wheel for pyicu (setup.py) ... \u001b[?25lerror\n",
      "  Complete output from command /anaconda3/bin/python -u -c \"import setuptools, tokenize;__file__='/private/var/folders/j4/0q0hggrx2_dcnrrq6f3zt13c0000gn/T/pip-install-ktelw57t/pyicu/setup.py';f=getattr(tokenize, 'open', open)(__file__);code=f.read().replace('\\r\\n', '\\n');f.close();exec(compile(code, __file__, 'exec'))\" bdist_wheel -d /private/var/folders/j4/0q0hggrx2_dcnrrq6f3zt13c0000gn/T/pip-wheel-c4wbui2j --python-tag cp37:\n",
      "  (running 'icu-config --version')\n",
      "  \n",
      "  Building PyICU 2.4.2 for ICU 58.2\n",
      "  \n",
      "  (running 'icu-config --cxxflags --cppflags')\n",
      "  Adding CFLAGS=\"-I/anaconda3/include\" from /anaconda3/bin/icu-config\n",
      "  (running 'icu-config --ldflags')\n",
      "  Adding LFLAGS=\"-Wl,-rpath,/anaconda3/lib -L/anaconda3/lib -licui18n -licuuc -licudata\" from /anaconda3/bin/icu-config\n",
      "  running bdist_wheel\n",
      "  running build\n",
      "  running build_py\n",
      "  creating build\n",
      "  creating build/lib.macosx-10.7-x86_64-3.7\n",
      "  copying PyICU.py -> build/lib.macosx-10.7-x86_64-3.7\n",
      "  creating build/lib.macosx-10.7-x86_64-3.7/icu\n",
      "  copying icu/__init__.py -> build/lib.macosx-10.7-x86_64-3.7/icu\n",
      "  running build_ext\n",
      "  building '_icu' extension\n",
      "  creating build/temp.macosx-10.7-x86_64-3.7\n",
      "  gcc -Wno-unused-result -Wsign-compare -Wunreachable-code -DNDEBUG -g -fwrapv -O3 -Wall -Wstrict-prototypes -I/anaconda3/include -arch x86_64 -I/anaconda3/include -arch x86_64 -I/anaconda3/include/python3.7m -c _icu.cpp -o build/temp.macosx-10.7-x86_64-3.7/_icu.o -I/anaconda3/include -DPYICU_VER=\"2.4.2\"\n",
      "  warning: include path for stdlibc++ headers not found; pass '-std=libc++' on the command line to use the libc++ standard library instead [-Wstdlibcxx-not-found]\n",
      "  In file included from _icu.cpp:27:\n",
      "  ./common.h:38:13: error: unknown type name 'decltype'\n",
      "      typedef decltype(nullptr) nullptr_t;\n",
      "              ^\n",
      "  ./common.h:38:30: error: expected ';' after top level declarator\n",
      "      typedef decltype(nullptr) nullptr_t;\n",
      "                               ^\n",
      "                               ;\n",
      "  In file included from _icu.cpp:27:\n",
      "  In file included from ./common.h:106:\n",
      "  In file included from /anaconda3/include/unicode/unistr.h:33:\n",
      "  /anaconda3/include/unicode/std_string.h:35:10: fatal error: 'string' file not found\n",
      "  #include <string>\n",
      "           ^~~~~~~~\n",
      "  1 warning and 3 errors generated.\n",
      "  error: command 'gcc' failed with exit status 1\n",
      "  \n",
      "  ----------------------------------------\n",
      "\u001b[31m  Failed building wheel for pyicu\u001b[0m\n",
      "\u001b[?25h  Running setup.py clean for pyicu\n",
      "Failed to build pyicu\n",
      "Installing collected packages: pyicu\n",
      "  Running setup.py install for pyicu ... \u001b[?25lerror\n",
      "    Complete output from command /anaconda3/bin/python -u -c \"import setuptools, tokenize;__file__='/private/var/folders/j4/0q0hggrx2_dcnrrq6f3zt13c0000gn/T/pip-install-ktelw57t/pyicu/setup.py';f=getattr(tokenize, 'open', open)(__file__);code=f.read().replace('\\r\\n', '\\n');f.close();exec(compile(code, __file__, 'exec'))\" install --record /private/var/folders/j4/0q0hggrx2_dcnrrq6f3zt13c0000gn/T/pip-record-xl_332xr/install-record.txt --single-version-externally-managed --compile:\n",
      "    (running 'icu-config --version')\n",
      "    \n",
      "    Building PyICU 2.4.2 for ICU 58.2\n",
      "    \n",
      "    (running 'icu-config --cxxflags --cppflags')\n",
      "    Adding CFLAGS=\"-I/anaconda3/include\" from /anaconda3/bin/icu-config\n",
      "    (running 'icu-config --ldflags')\n",
      "    Adding LFLAGS=\"-Wl,-rpath,/anaconda3/lib -L/anaconda3/lib -licui18n -licuuc -licudata\" from /anaconda3/bin/icu-config\n",
      "    running install\n",
      "    running build\n",
      "    running build_py\n",
      "    creating build\n",
      "    creating build/lib.macosx-10.7-x86_64-3.7\n",
      "    copying PyICU.py -> build/lib.macosx-10.7-x86_64-3.7\n",
      "    creating build/lib.macosx-10.7-x86_64-3.7/icu\n",
      "    copying icu/__init__.py -> build/lib.macosx-10.7-x86_64-3.7/icu\n",
      "    running build_ext\n",
      "    building '_icu' extension\n",
      "    creating build/temp.macosx-10.7-x86_64-3.7\n",
      "    gcc -Wno-unused-result -Wsign-compare -Wunreachable-code -DNDEBUG -g -fwrapv -O3 -Wall -Wstrict-prototypes -I/anaconda3/include -arch x86_64 -I/anaconda3/include -arch x86_64 -I/anaconda3/include/python3.7m -c _icu.cpp -o build/temp.macosx-10.7-x86_64-3.7/_icu.o -I/anaconda3/include -DPYICU_VER=\"2.4.2\"\n",
      "    warning: include path for stdlibc++ headers not found; pass '-std=libc++' on the command line to use the libc++ standard library instead [-Wstdlibcxx-not-found]\n",
      "    In file included from _icu.cpp:27:\n",
      "    ./common.h:38:13: error: unknown type name 'decltype'\n",
      "        typedef decltype(nullptr) nullptr_t;\n",
      "                ^\n",
      "    ./common.h:38:30: error: expected ';' after top level declarator\n",
      "        typedef decltype(nullptr) nullptr_t;\n",
      "                                 ^\n",
      "                                 ;\n",
      "    In file included from _icu.cpp:27:\n",
      "    In file included from ./common.h:106:\n",
      "    In file included from /anaconda3/include/unicode/unistr.h:33:\n",
      "    /anaconda3/include/unicode/std_string.h:35:10: fatal error: 'string' file not found\n",
      "    #include <string>\n",
      "             ^~~~~~~~\n",
      "    1 warning and 3 errors generated.\n",
      "    error: command 'gcc' failed with exit status 1\n",
      "    \n",
      "    ----------------------------------------\n",
      "\u001b[31mCommand \"/anaconda3/bin/python -u -c \"import setuptools, tokenize;__file__='/private/var/folders/j4/0q0hggrx2_dcnrrq6f3zt13c0000gn/T/pip-install-ktelw57t/pyicu/setup.py';f=getattr(tokenize, 'open', open)(__file__);code=f.read().replace('\\r\\n', '\\n');f.close();exec(compile(code, __file__, 'exec'))\" install --record /private/var/folders/j4/0q0hggrx2_dcnrrq6f3zt13c0000gn/T/pip-record-xl_332xr/install-record.txt --single-version-externally-managed --compile\" failed with error code 1 in /private/var/folders/j4/0q0hggrx2_dcnrrq6f3zt13c0000gn/T/pip-install-ktelw57t/pyicu/\u001b[0m\n",
      "\u001b[?25hNote: you may need to restart the kernel to use updated packages.\n"
     ]
    }
   ],
   "source": [
    "pip install pyicu"
   ]
  },
  {
   "cell_type": "code",
   "execution_count": 5,
   "metadata": {},
   "outputs": [
    {
     "ename": "ModuleNotFoundError",
     "evalue": "No module named 'icu'",
     "output_type": "error",
     "traceback": [
      "\u001b[0;31m---------------------------------------------------------------------------\u001b[0m",
      "\u001b[0;31mModuleNotFoundError\u001b[0m                       Traceback (most recent call last)",
      "\u001b[0;32m<ipython-input-5-365fdab6978f>\u001b[0m in \u001b[0;36m<module>\u001b[0;34m\u001b[0m\n\u001b[0;32m----> 1\u001b[0;31m \u001b[0;32mfrom\u001b[0m \u001b[0mpolyglot\u001b[0m\u001b[0;34m.\u001b[0m\u001b[0mtext\u001b[0m \u001b[0;32mimport\u001b[0m \u001b[0mText\u001b[0m\u001b[0;34m\u001b[0m\u001b[0;34m\u001b[0m\u001b[0m\n\u001b[0m",
      "\u001b[0;32m/anaconda3/lib/python3.7/site-packages/polyglot/text.py\u001b[0m in \u001b[0;36m<module>\u001b[0;34m\u001b[0m\n\u001b[1;32m      7\u001b[0m \u001b[0;34m\u001b[0m\u001b[0m\n\u001b[1;32m      8\u001b[0m \u001b[0;32mfrom\u001b[0m \u001b[0mpolyglot\u001b[0m\u001b[0;34m.\u001b[0m\u001b[0mbase\u001b[0m \u001b[0;32mimport\u001b[0m \u001b[0mSequence\u001b[0m\u001b[0;34m,\u001b[0m \u001b[0mTextFile\u001b[0m\u001b[0;34m,\u001b[0m \u001b[0mTextFiles\u001b[0m\u001b[0;34m\u001b[0m\u001b[0;34m\u001b[0m\u001b[0m\n\u001b[0;32m----> 9\u001b[0;31m \u001b[0;32mfrom\u001b[0m \u001b[0mpolyglot\u001b[0m\u001b[0;34m.\u001b[0m\u001b[0mdetect\u001b[0m \u001b[0;32mimport\u001b[0m \u001b[0mDetector\u001b[0m\u001b[0;34m,\u001b[0m \u001b[0mLanguage\u001b[0m\u001b[0;34m\u001b[0m\u001b[0;34m\u001b[0m\u001b[0m\n\u001b[0m\u001b[1;32m     10\u001b[0m \u001b[0;32mfrom\u001b[0m \u001b[0mpolyglot\u001b[0m\u001b[0;34m.\u001b[0m\u001b[0mdecorators\u001b[0m \u001b[0;32mimport\u001b[0m \u001b[0mcached_property\u001b[0m\u001b[0;34m\u001b[0m\u001b[0;34m\u001b[0m\u001b[0m\n\u001b[1;32m     11\u001b[0m \u001b[0;32mfrom\u001b[0m \u001b[0mpolyglot\u001b[0m\u001b[0;34m.\u001b[0m\u001b[0mdownloader\u001b[0m \u001b[0;32mimport\u001b[0m \u001b[0mDownloader\u001b[0m\u001b[0;34m\u001b[0m\u001b[0;34m\u001b[0m\u001b[0m\n",
      "\u001b[0;32m/anaconda3/lib/python3.7/site-packages/polyglot/detect/__init__.py\u001b[0m in \u001b[0;36m<module>\u001b[0;34m\u001b[0m\n\u001b[0;32m----> 1\u001b[0;31m \u001b[0;32mfrom\u001b[0m \u001b[0;34m.\u001b[0m\u001b[0mbase\u001b[0m \u001b[0;32mimport\u001b[0m \u001b[0mDetector\u001b[0m\u001b[0;34m,\u001b[0m \u001b[0mLanguage\u001b[0m\u001b[0;34m\u001b[0m\u001b[0;34m\u001b[0m\u001b[0m\n\u001b[0m\u001b[1;32m      2\u001b[0m \u001b[0;34m\u001b[0m\u001b[0m\n\u001b[1;32m      3\u001b[0m \u001b[0m__all__\u001b[0m \u001b[0;34m=\u001b[0m \u001b[0;34m[\u001b[0m\u001b[0;34m'Detector'\u001b[0m\u001b[0;34m,\u001b[0m \u001b[0;34m'Language'\u001b[0m\u001b[0;34m]\u001b[0m\u001b[0;34m\u001b[0m\u001b[0;34m\u001b[0m\u001b[0m\n",
      "\u001b[0;32m/anaconda3/lib/python3.7/site-packages/polyglot/detect/base.py\u001b[0m in \u001b[0;36m<module>\u001b[0;34m\u001b[0m\n\u001b[1;32m      9\u001b[0m \u001b[0;34m\u001b[0m\u001b[0m\n\u001b[1;32m     10\u001b[0m \u001b[0;34m\u001b[0m\u001b[0m\n\u001b[0;32m---> 11\u001b[0;31m \u001b[0;32mfrom\u001b[0m \u001b[0micu\u001b[0m \u001b[0;32mimport\u001b[0m \u001b[0mLocale\u001b[0m\u001b[0;34m\u001b[0m\u001b[0;34m\u001b[0m\u001b[0m\n\u001b[0m\u001b[1;32m     12\u001b[0m \u001b[0;32mimport\u001b[0m \u001b[0mpycld2\u001b[0m \u001b[0;32mas\u001b[0m \u001b[0mcld2\u001b[0m\u001b[0;34m\u001b[0m\u001b[0;34m\u001b[0m\u001b[0m\n\u001b[1;32m     13\u001b[0m \u001b[0;34m\u001b[0m\u001b[0m\n",
      "\u001b[0;31mModuleNotFoundError\u001b[0m: No module named 'icu'"
     ]
    }
   ],
   "source": [
    "from polyglot.text import Text"
   ]
  },
  {
   "cell_type": "code",
   "execution_count": 6,
   "metadata": {},
   "outputs": [
    {
     "name": "stdout",
     "output_type": "stream",
     "text": [
      "Collecting pyicu\n",
      "  Using cached https://files.pythonhosted.org/packages/95/0c/0fb09019efb65a29789ec5538f8e521b8f548da6935a3a474e19fbf2ea4d/PyICU-2.4.2.tar.gz\n",
      "Building wheels for collected packages: pyicu\n",
      "  Building wheel for pyicu (setup.py) ... \u001b[?25lerror\n",
      "  Complete output from command /anaconda3/bin/python -u -c \"import setuptools, tokenize;__file__='/private/var/folders/j4/0q0hggrx2_dcnrrq6f3zt13c0000gn/T/pip-install-nq9bcwls/pyicu/setup.py';f=getattr(tokenize, 'open', open)(__file__);code=f.read().replace('\\r\\n', '\\n');f.close();exec(compile(code, __file__, 'exec'))\" bdist_wheel -d /private/var/folders/j4/0q0hggrx2_dcnrrq6f3zt13c0000gn/T/pip-wheel-hdzpmsqy --python-tag cp37:\n",
      "  (running 'icu-config --version')\n",
      "  \n",
      "  Building PyICU 2.4.2 for ICU 58.2\n",
      "  \n",
      "  (running 'icu-config --cxxflags --cppflags')\n",
      "  Adding CFLAGS=\"-I/anaconda3/include\" from /anaconda3/bin/icu-config\n",
      "  (running 'icu-config --ldflags')\n",
      "  Adding LFLAGS=\"-Wl,-rpath,/anaconda3/lib -L/anaconda3/lib -licui18n -licuuc -licudata\" from /anaconda3/bin/icu-config\n",
      "  running bdist_wheel\n",
      "  running build\n",
      "  running build_py\n",
      "  creating build\n",
      "  creating build/lib.macosx-10.7-x86_64-3.7\n",
      "  copying PyICU.py -> build/lib.macosx-10.7-x86_64-3.7\n",
      "  creating build/lib.macosx-10.7-x86_64-3.7/icu\n",
      "  copying icu/__init__.py -> build/lib.macosx-10.7-x86_64-3.7/icu\n",
      "  running build_ext\n",
      "  building '_icu' extension\n",
      "  creating build/temp.macosx-10.7-x86_64-3.7\n",
      "  gcc -Wno-unused-result -Wsign-compare -Wunreachable-code -DNDEBUG -g -fwrapv -O3 -Wall -Wstrict-prototypes -I/anaconda3/include -arch x86_64 -I/anaconda3/include -arch x86_64 -I/anaconda3/include/python3.7m -c _icu.cpp -o build/temp.macosx-10.7-x86_64-3.7/_icu.o -I/anaconda3/include -DPYICU_VER=\"2.4.2\"\n",
      "  warning: include path for stdlibc++ headers not found; pass '-std=libc++' on the command line to use the libc++ standard library instead [-Wstdlibcxx-not-found]\n",
      "  In file included from _icu.cpp:27:\n",
      "  ./common.h:38:13: error: unknown type name 'decltype'\n",
      "      typedef decltype(nullptr) nullptr_t;\n",
      "              ^\n",
      "  ./common.h:38:30: error: expected ';' after top level declarator\n",
      "      typedef decltype(nullptr) nullptr_t;\n",
      "                               ^\n",
      "                               ;\n",
      "  In file included from _icu.cpp:27:\n",
      "  In file included from ./common.h:106:\n",
      "  In file included from /anaconda3/include/unicode/unistr.h:33:\n",
      "  /anaconda3/include/unicode/std_string.h:35:10: fatal error: 'string' file not found\n",
      "  #include <string>\n",
      "           ^~~~~~~~\n",
      "  1 warning and 3 errors generated.\n",
      "  error: command 'gcc' failed with exit status 1\n",
      "  \n",
      "  ----------------------------------------\n",
      "\u001b[31m  Failed building wheel for pyicu\u001b[0m\n",
      "\u001b[?25h  Running setup.py clean for pyicu\n",
      "Failed to build pyicu\n",
      "Installing collected packages: pyicu\n",
      "  Running setup.py install for pyicu ... \u001b[?25lerror\n",
      "    Complete output from command /anaconda3/bin/python -u -c \"import setuptools, tokenize;__file__='/private/var/folders/j4/0q0hggrx2_dcnrrq6f3zt13c0000gn/T/pip-install-nq9bcwls/pyicu/setup.py';f=getattr(tokenize, 'open', open)(__file__);code=f.read().replace('\\r\\n', '\\n');f.close();exec(compile(code, __file__, 'exec'))\" install --record /private/var/folders/j4/0q0hggrx2_dcnrrq6f3zt13c0000gn/T/pip-record-0_vvab1l/install-record.txt --single-version-externally-managed --compile:\n",
      "    (running 'icu-config --version')\n",
      "    \n",
      "    Building PyICU 2.4.2 for ICU 58.2\n",
      "    \n",
      "    (running 'icu-config --cxxflags --cppflags')\n",
      "    Adding CFLAGS=\"-I/anaconda3/include\" from /anaconda3/bin/icu-config\n",
      "    (running 'icu-config --ldflags')\n",
      "    Adding LFLAGS=\"-Wl,-rpath,/anaconda3/lib -L/anaconda3/lib -licui18n -licuuc -licudata\" from /anaconda3/bin/icu-config\n",
      "    running install\n",
      "    running build\n",
      "    running build_py\n",
      "    creating build\n",
      "    creating build/lib.macosx-10.7-x86_64-3.7\n",
      "    copying PyICU.py -> build/lib.macosx-10.7-x86_64-3.7\n",
      "    creating build/lib.macosx-10.7-x86_64-3.7/icu\n",
      "    copying icu/__init__.py -> build/lib.macosx-10.7-x86_64-3.7/icu\n",
      "    running build_ext\n",
      "    building '_icu' extension\n",
      "    creating build/temp.macosx-10.7-x86_64-3.7\n",
      "    gcc -Wno-unused-result -Wsign-compare -Wunreachable-code -DNDEBUG -g -fwrapv -O3 -Wall -Wstrict-prototypes -I/anaconda3/include -arch x86_64 -I/anaconda3/include -arch x86_64 -I/anaconda3/include/python3.7m -c _icu.cpp -o build/temp.macosx-10.7-x86_64-3.7/_icu.o -I/anaconda3/include -DPYICU_VER=\"2.4.2\"\n",
      "    warning: include path for stdlibc++ headers not found; pass '-std=libc++' on the command line to use the libc++ standard library instead [-Wstdlibcxx-not-found]\n",
      "    In file included from _icu.cpp:27:\n",
      "    ./common.h:38:13: error: unknown type name 'decltype'\n",
      "        typedef decltype(nullptr) nullptr_t;\n",
      "                ^\n",
      "    ./common.h:38:30: error: expected ';' after top level declarator\n",
      "        typedef decltype(nullptr) nullptr_t;\n",
      "                                 ^\n",
      "                                 ;\n",
      "    In file included from _icu.cpp:27:\n",
      "    In file included from ./common.h:106:\n",
      "    In file included from /anaconda3/include/unicode/unistr.h:33:\n",
      "    /anaconda3/include/unicode/std_string.h:35:10: fatal error: 'string' file not found\n",
      "    #include <string>\n",
      "             ^~~~~~~~\n",
      "    1 warning and 3 errors generated.\n",
      "    error: command 'gcc' failed with exit status 1\n",
      "    \n",
      "    ----------------------------------------\n",
      "\u001b[31mCommand \"/anaconda3/bin/python -u -c \"import setuptools, tokenize;__file__='/private/var/folders/j4/0q0hggrx2_dcnrrq6f3zt13c0000gn/T/pip-install-nq9bcwls/pyicu/setup.py';f=getattr(tokenize, 'open', open)(__file__);code=f.read().replace('\\r\\n', '\\n');f.close();exec(compile(code, __file__, 'exec'))\" install --record /private/var/folders/j4/0q0hggrx2_dcnrrq6f3zt13c0000gn/T/pip-record-0_vvab1l/install-record.txt --single-version-externally-managed --compile\" failed with error code 1 in /private/var/folders/j4/0q0hggrx2_dcnrrq6f3zt13c0000gn/T/pip-install-nq9bcwls/pyicu/\u001b[0m\n",
      "\u001b[?25hNote: you may need to restart the kernel to use updated packages.\n"
     ]
    }
   ],
   "source": [
    " pip install pyicu"
   ]
  },
  {
   "cell_type": "code",
   "execution_count": 7,
   "metadata": {},
   "outputs": [
    {
     "ename": "ModuleNotFoundError",
     "evalue": "No module named 'icu'",
     "output_type": "error",
     "traceback": [
      "\u001b[0;31m---------------------------------------------------------------------------\u001b[0m",
      "\u001b[0;31mModuleNotFoundError\u001b[0m                       Traceback (most recent call last)",
      "\u001b[0;32m<ipython-input-7-47b8d2b39557>\u001b[0m in \u001b[0;36m<module>\u001b[0;34m\u001b[0m\n\u001b[0;32m----> 1\u001b[0;31m \u001b[0;32mfrom\u001b[0m \u001b[0mpolyglot\u001b[0m\u001b[0;34m.\u001b[0m\u001b[0mdownloader\u001b[0m \u001b[0;32mimport\u001b[0m \u001b[0mdownloader\u001b[0m\u001b[0;34m\u001b[0m\u001b[0;34m\u001b[0m\u001b[0m\n\u001b[0m",
      "\u001b[0;32m/anaconda3/lib/python3.7/site-packages/polyglot/downloader.py\u001b[0m in \u001b[0;36m<module>\u001b[0;34m\u001b[0m\n\u001b[1;32m     89\u001b[0m \u001b[0;34m\u001b[0m\u001b[0m\n\u001b[1;32m     90\u001b[0m \u001b[0;32mfrom\u001b[0m \u001b[0mpolyglot\u001b[0m \u001b[0;32mimport\u001b[0m \u001b[0mpolyglot_path\u001b[0m\u001b[0;34m\u001b[0m\u001b[0;34m\u001b[0m\u001b[0m\n\u001b[0;32m---> 91\u001b[0;31m \u001b[0;32mfrom\u001b[0m \u001b[0mpolyglot\u001b[0m\u001b[0;34m.\u001b[0m\u001b[0mdetect\u001b[0m\u001b[0;34m.\u001b[0m\u001b[0mlangids\u001b[0m \u001b[0;32mimport\u001b[0m \u001b[0misoLangs\u001b[0m\u001b[0;34m\u001b[0m\u001b[0;34m\u001b[0m\u001b[0m\n\u001b[0m\u001b[1;32m     92\u001b[0m \u001b[0;32mfrom\u001b[0m \u001b[0mpolyglot\u001b[0m\u001b[0;34m.\u001b[0m\u001b[0mutils\u001b[0m \u001b[0;32mimport\u001b[0m \u001b[0mpretty_list\u001b[0m\u001b[0;34m\u001b[0m\u001b[0;34m\u001b[0m\u001b[0m\n\u001b[1;32m     93\u001b[0m \u001b[0;32mfrom\u001b[0m \u001b[0micu\u001b[0m \u001b[0;32mimport\u001b[0m \u001b[0mLocale\u001b[0m\u001b[0;34m\u001b[0m\u001b[0;34m\u001b[0m\u001b[0m\n",
      "\u001b[0;32m/anaconda3/lib/python3.7/site-packages/polyglot/detect/__init__.py\u001b[0m in \u001b[0;36m<module>\u001b[0;34m\u001b[0m\n\u001b[0;32m----> 1\u001b[0;31m \u001b[0;32mfrom\u001b[0m \u001b[0;34m.\u001b[0m\u001b[0mbase\u001b[0m \u001b[0;32mimport\u001b[0m \u001b[0mDetector\u001b[0m\u001b[0;34m,\u001b[0m \u001b[0mLanguage\u001b[0m\u001b[0;34m\u001b[0m\u001b[0;34m\u001b[0m\u001b[0m\n\u001b[0m\u001b[1;32m      2\u001b[0m \u001b[0;34m\u001b[0m\u001b[0m\n\u001b[1;32m      3\u001b[0m \u001b[0m__all__\u001b[0m \u001b[0;34m=\u001b[0m \u001b[0;34m[\u001b[0m\u001b[0;34m'Detector'\u001b[0m\u001b[0;34m,\u001b[0m \u001b[0;34m'Language'\u001b[0m\u001b[0;34m]\u001b[0m\u001b[0;34m\u001b[0m\u001b[0;34m\u001b[0m\u001b[0m\n",
      "\u001b[0;32m/anaconda3/lib/python3.7/site-packages/polyglot/detect/base.py\u001b[0m in \u001b[0;36m<module>\u001b[0;34m\u001b[0m\n\u001b[1;32m      9\u001b[0m \u001b[0;34m\u001b[0m\u001b[0m\n\u001b[1;32m     10\u001b[0m \u001b[0;34m\u001b[0m\u001b[0m\n\u001b[0;32m---> 11\u001b[0;31m \u001b[0;32mfrom\u001b[0m \u001b[0micu\u001b[0m \u001b[0;32mimport\u001b[0m \u001b[0mLocale\u001b[0m\u001b[0;34m\u001b[0m\u001b[0;34m\u001b[0m\u001b[0m\n\u001b[0m\u001b[1;32m     12\u001b[0m \u001b[0;32mimport\u001b[0m \u001b[0mpycld2\u001b[0m \u001b[0;32mas\u001b[0m \u001b[0mcld2\u001b[0m\u001b[0;34m\u001b[0m\u001b[0;34m\u001b[0m\u001b[0m\n\u001b[1;32m     13\u001b[0m \u001b[0;34m\u001b[0m\u001b[0m\n",
      "\u001b[0;31mModuleNotFoundError\u001b[0m: No module named 'icu'"
     ]
    }
   ],
   "source": [
    "from polyglot.downloader import downloader\n"
   ]
  },
  {
   "cell_type": "code",
   "execution_count": 8,
   "metadata": {},
   "outputs": [
    {
     "ename": "SyntaxError",
     "evalue": "invalid syntax (<ipython-input-8-689f62a4b4d7>, line 1)",
     "output_type": "error",
     "traceback": [
      "\u001b[0;36m  File \u001b[0;32m\"<ipython-input-8-689f62a4b4d7>\"\u001b[0;36m, line \u001b[0;32m1\u001b[0m\n\u001b[0;31m    sudo pip3 polyglot\u001b[0m\n\u001b[0m            ^\u001b[0m\n\u001b[0;31mSyntaxError\u001b[0m\u001b[0;31m:\u001b[0m invalid syntax\n"
     ]
    }
   ],
   "source": [
    "sudo pip3 polyglot"
   ]
  },
  {
   "cell_type": "code",
   "execution_count": null,
   "metadata": {},
   "outputs": [],
   "source": []
  }
 ],
 "metadata": {
  "kernelspec": {
   "display_name": "Python 3",
   "language": "python",
   "name": "python3"
  },
  "language_info": {
   "codemirror_mode": {
    "name": "ipython",
    "version": 3
   },
   "file_extension": ".py",
   "mimetype": "text/x-python",
   "name": "python",
   "nbconvert_exporter": "python",
   "pygments_lexer": "ipython3",
   "version": "3.7.3"
  }
 },
 "nbformat": 4,
 "nbformat_minor": 2
}
